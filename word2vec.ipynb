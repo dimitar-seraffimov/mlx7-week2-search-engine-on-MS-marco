{
 "cells": [
  {
   "cell_type": "code",
   "execution_count": 81,
   "metadata": {},
   "outputs": [],
   "source": [
    "import tqdm, torch, datetime\n",
    "import dataset, evaluate, model\n",
    "torch.manual_seed(42)\n",
    "dev = torch.device('cuda' if torch.cuda.is_available() else 'cpu')\n",
    "ts  = datetime.datetime.now().strftime('%Y_%m_%d__%H_%M_%S')\n"
   ]
  },
  {
   "cell_type": "code",
   "execution_count": 82,
   "metadata": {},
   "outputs": [
    {
     "ename": "AttributeError",
     "evalue": "module 'dataset' has no attribute 'Wiki'",
     "output_type": "error",
     "traceback": [
      "\u001b[31m---------------------------------------------------------------------------\u001b[39m",
      "\u001b[31mAttributeError\u001b[39m                            Traceback (most recent call last)",
      "\u001b[36mCell\u001b[39m\u001b[36m \u001b[39m\u001b[32mIn[82]\u001b[39m\u001b[32m, line 1\u001b[39m\n\u001b[32m----> \u001b[39m\u001b[32m1\u001b[39m ds = \u001b[43mdataset\u001b[49m\u001b[43m.\u001b[49m\u001b[43mWiki\u001b[49m()\n\u001b[32m      2\u001b[39m dl = torch.utils.data.DataLoader(ds, batch_size=\u001b[32m256\u001b[39m, shuffle=\u001b[38;5;28;01mTrue\u001b[39;00m)\n",
      "\u001b[31mAttributeError\u001b[39m: module 'dataset' has no attribute 'Wiki'"
     ]
    }
   ],
   "source": [
    "ds = dataset.Wiki()\n",
    "dl = torch.utils.data.DataLoader(ds, batch_size=256, shuffle=True)"
   ]
  }
 ],
 "metadata": {
  "kernelspec": {
   "display_name": "Python 3 (ipykernel)",
   "language": "python",
   "name": "python3"
  }
 },
 "nbformat": 4,
 "nbformat_minor": 2
}
