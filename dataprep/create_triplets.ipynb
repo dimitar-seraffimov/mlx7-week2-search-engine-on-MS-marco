{
 "cells": [
  {
   "cell_type": "code",
   "execution_count": 47,
   "metadata": {},
   "outputs": [],
   "source": [
    "import pandas as pd\n",
    "import random\n",
    "import numpy as np\n",
    "\n",
    "# For reproducibility\n",
    "random.seed(42)\n"
   ]
  },
  {
   "cell_type": "code",
   "execution_count": 48,
   "metadata": {},
   "outputs": [
    {
     "name": "stdout",
     "output_type": "stream",
     "text": [
      "Loaded 102023 queries.\n"
     ]
    }
   ],
   "source": [
    "# Load combined dataset\n",
    "df = pd.read_parquet(\"dataprep/ms_marco_combined/combined.parquet\")\n",
    "print(f\"Loaded {len(df)} queries.\")\n"
   ]
  },
  {
   "cell_type": "code",
   "execution_count": 49,
   "metadata": {},
   "outputs": [],
   "source": [
    "# Build positive map and global negatives (skip empty texts)\n",
    "pos_map = {}    # qid -> {\"query\": qtxt, \"positives\": [texts]}\n",
    "neg_list = []   # list of (qid, neg_text)\n",
    "\n",
    "for row in df.itertuples():\n",
    "    qid, qtxt = row.query_id, row.query\n",
    "    sel_arr = row.passages['is_selected']\n",
    "    txt_arr = row.passages['passage_text']\n",
    "\n",
    "    for sel, txt in zip(sel_arr, txt_arr):\n",
    "        if not isinstance(txt, str) or not txt.strip():\n",
    "            continue\n",
    "        if sel == 1:\n",
    "            pos_map.setdefault(qid, {\"query\": qtxt, \"positives\": []})[\"positives\"].append(txt)\n",
    "        else:\n",
    "            neg_list.append((qid, txt))\n"
   ]
  },
  {
   "cell_type": "code",
   "execution_count": 50,
   "metadata": {},
   "outputs": [
    {
     "name": "stdout",
     "output_type": "stream",
     "text": [
      "Queries total: 102023\n",
      "Queries with ≥1 positive: 98755\n",
      "Negatives in pool: 727975\n"
     ]
    }
   ],
   "source": [
    "# Stats after building pools\n",
    "total_queries = len(df)\n",
    "queries_with_pos = len(pos_map)\n",
    "total_negatives = len(neg_list)\n",
    "print(f\"Queries total: {total_queries}\")\n",
    "print(f\"Queries with ≥1 positive: {queries_with_pos}\")\n",
    "print(f\"Negatives in pool: {total_negatives}\")\n"
   ]
  },
  {
   "cell_type": "code",
   "execution_count": 53,
   "metadata": {},
   "outputs": [],
   "source": [
    "def extract_triplets(raw_dataframe: pd.DataFrame, offset: int = 4) -> pd.DataFrame:\n",
    "    triplets = []\n",
    "    num_rows = len(raw_dataframe)\n",
    "\n",
    "    for i in range(num_rows):\n",
    "        row = raw_dataframe.iloc[i]\n",
    "        query = row['query']\n",
    "        passages = row['passages']\n",
    "\n",
    "        if not isinstance(passages, dict):\n",
    "            continue\n",
    "\n",
    "        is_selected = passages.get('is_selected', [])\n",
    "        passage_texts = passages.get('passage_text', [])\n",
    "\n",
    "        if len(is_selected) == 0 or len(passage_texts) == 0:\n",
    "            continue\n",
    "\n",
    "        selected_indices = np.where(np.array(is_selected) == 1)[0]\n",
    "        if selected_indices.size == 0:\n",
    "            continue\n",
    "\n",
    "        positive_passage = passage_texts[selected_indices[0]]\n",
    "\n",
    "        negative_index = (i + offset) % num_rows\n",
    "        if negative_index == i:\n",
    "            continue\n",
    "\n",
    "        negative_row = raw_dataframe.iloc[negative_index]\n",
    "        negative_passages_dict = negative_row['passages']\n",
    "\n",
    "        if not isinstance(negative_passages_dict, dict):\n",
    "            continue\n",
    "\n",
    "        neg_passages = negative_passages_dict.get('passage_text', [])\n",
    "        if len(neg_passages) == 0:\n",
    "            continue\n",
    "\n",
    "        # Try 3 times to get a different negative passage\n",
    "        negative_passage = None\n",
    "        for _ in range(3):\n",
    "            candidate = random.choice(neg_passages)\n",
    "            if candidate != positive_passage:\n",
    "                negative_passage = candidate\n",
    "                break\n",
    "\n",
    "        if negative_passage is None:\n",
    "            continue\n",
    "\n",
    "        triplets.append({\n",
    "            'query': query,\n",
    "            'positive_passage': positive_passage,\n",
    "            'negative_passage': negative_passage\n",
    "        })\n",
    "\n",
    "    return pd.DataFrame(triplets)"
   ]
  },
  {
   "cell_type": "code",
   "execution_count": 54,
   "metadata": {},
   "outputs": [
    {
     "name": "stdout",
     "output_type": "stream",
     "text": [
      "Total triplets: 98755\n"
     ]
    }
   ],
   "source": [
    "df = pd.read_parquet(\"dataprep/ms_marco_combined/combined.parquet\")\n",
    "triples_df = extract_triplets(df, offset=4)\n",
    "print(\"Total triplets:\", len(triples_df))"
   ]
  },
  {
   "cell_type": "code",
   "execution_count": 55,
   "metadata": {},
   "outputs": [
    {
     "data": {
      "text/html": [
       "<div>\n",
       "<style scoped>\n",
       "    .dataframe tbody tr th:only-of-type {\n",
       "        vertical-align: middle;\n",
       "    }\n",
       "\n",
       "    .dataframe tbody tr th {\n",
       "        vertical-align: top;\n",
       "    }\n",
       "\n",
       "    .dataframe thead th {\n",
       "        text-align: right;\n",
       "    }\n",
       "</style>\n",
       "<table border=\"1\" class=\"dataframe\">\n",
       "  <thead>\n",
       "    <tr style=\"text-align: right;\">\n",
       "      <th></th>\n",
       "      <th>query</th>\n",
       "      <th>positive_passage</th>\n",
       "      <th>negative_passage</th>\n",
       "    </tr>\n",
       "  </thead>\n",
       "  <tbody>\n",
       "    <tr>\n",
       "      <th>0</th>\n",
       "      <td>what is a landmark in colombia</td>\n",
       "      <td>Bogota. Colombia's capital of Bogota is in the...</td>\n",
       "      <td>The second level of the food chains is called ...</td>\n",
       "    </tr>\n",
       "    <tr>\n",
       "      <th>1</th>\n",
       "      <td>how to prepare a field for planting pumpkins</td>\n",
       "      <td>1. Prepare your soil. If you are anticipating ...</td>\n",
       "      <td>A. The Locarno Conference was called partly be...</td>\n",
       "    </tr>\n",
       "    <tr>\n",
       "      <th>2</th>\n",
       "      <td>should you lighten your hair as you get older</td>\n",
       "      <td>I don't want to be a blond. I was thinking of ...</td>\n",
       "      <td>HIP ABDUCTOR MUSCLES The hip abductor muscles ...</td>\n",
       "    </tr>\n",
       "    <tr>\n",
       "      <th>3</th>\n",
       "      <td>why is carbon dioxide inorganic</td>\n",
       "      <td>an organic compound is a compound which must c...</td>\n",
       "      <td>The truth: Age is the most important factor af...</td>\n",
       "    </tr>\n",
       "    <tr>\n",
       "      <th>4</th>\n",
       "      <td>is licorice fattening</td>\n",
       "      <td>No, the red part is artificial. But licorice i...</td>\n",
       "      <td>Amount-With the Child Tax Credit, you may be a...</td>\n",
       "    </tr>\n",
       "    <tr>\n",
       "      <th>5</th>\n",
       "      <td>how is the term flashback defined</td>\n",
       "      <td>Flashback or flashbacks may refer to: 1  Flash...</td>\n",
       "      <td>over 55 years. Building Blocks of Nutrition: F...</td>\n",
       "    </tr>\n",
       "    <tr>\n",
       "      <th>6</th>\n",
       "      <td>what age does universal credit include</td>\n",
       "      <td>Young people and Universal Credit. From April ...</td>\n",
       "      <td>These are the richest athletes in the world! H...</td>\n",
       "    </tr>\n",
       "    <tr>\n",
       "      <th>7</th>\n",
       "      <td>what is white zircon</td>\n",
       "      <td>Zircon is a type of gemstone. It's desirable b...</td>\n",
       "      <td>Those teaching elementary school earned annual...</td>\n",
       "    </tr>\n",
       "    <tr>\n",
       "      <th>8</th>\n",
       "      <td>how has the first amendment been incorporated ...</td>\n",
       "      <td>The First Amendment has been fully incorporate...</td>\n",
       "      <td>Rating Newest Oldest. Best Answer: The five-po...</td>\n",
       "    </tr>\n",
       "    <tr>\n",
       "      <th>9</th>\n",
       "      <td>is a company liable for employees driving own ...</td>\n",
       "      <td>When you decide to permit an employee to drive...</td>\n",
       "      <td>A barebones system package will differ dependi...</td>\n",
       "    </tr>\n",
       "  </tbody>\n",
       "</table>\n",
       "</div>"
      ],
      "text/plain": [
       "                                               query  \\\n",
       "0                     what is a landmark in colombia   \n",
       "1       how to prepare a field for planting pumpkins   \n",
       "2      should you lighten your hair as you get older   \n",
       "3                    why is carbon dioxide inorganic   \n",
       "4                              is licorice fattening   \n",
       "5                  how is the term flashback defined   \n",
       "6             what age does universal credit include   \n",
       "7                               what is white zircon   \n",
       "8  how has the first amendment been incorporated ...   \n",
       "9  is a company liable for employees driving own ...   \n",
       "\n",
       "                                    positive_passage  \\\n",
       "0  Bogota. Colombia's capital of Bogota is in the...   \n",
       "1  1. Prepare your soil. If you are anticipating ...   \n",
       "2  I don't want to be a blond. I was thinking of ...   \n",
       "3  an organic compound is a compound which must c...   \n",
       "4  No, the red part is artificial. But licorice i...   \n",
       "5  Flashback or flashbacks may refer to: 1  Flash...   \n",
       "6  Young people and Universal Credit. From April ...   \n",
       "7  Zircon is a type of gemstone. It's desirable b...   \n",
       "8  The First Amendment has been fully incorporate...   \n",
       "9  When you decide to permit an employee to drive...   \n",
       "\n",
       "                                    negative_passage  \n",
       "0  The second level of the food chains is called ...  \n",
       "1  A. The Locarno Conference was called partly be...  \n",
       "2  HIP ABDUCTOR MUSCLES The hip abductor muscles ...  \n",
       "3  The truth: Age is the most important factor af...  \n",
       "4  Amount-With the Child Tax Credit, you may be a...  \n",
       "5  over 55 years. Building Blocks of Nutrition: F...  \n",
       "6  These are the richest athletes in the world! H...  \n",
       "7  Those teaching elementary school earned annual...  \n",
       "8  Rating Newest Oldest. Best Answer: The five-po...  \n",
       "9  A barebones system package will differ dependi...  "
      ]
     },
     "metadata": {},
     "output_type": "display_data"
    }
   ],
   "source": [
    "sampled = triples_df[['query', 'positive_passage', 'negative_passage']] \\\n",
    "            .sample(10, random_state=42) \\\n",
    "            .reset_index(drop=True)\n",
    "display(sampled)"
   ]
  },
  {
   "cell_type": "code",
   "execution_count": 56,
   "metadata": {},
   "outputs": [
    {
     "name": "stdout",
     "output_type": "stream",
     "text": [
      "Train: 79004\n",
      "Validation: 9875\n",
      "Test: 9876\n"
     ]
    }
   ],
   "source": [
    "# shuffle the triplets\n",
    "shuffled = triples_df.sample(frac=1, random_state=42).reset_index(drop=True)\n",
    "\n",
    "# compute split sizes (80% train, 10% val, 10% test)\n",
    "n = len(shuffled)\n",
    "n_train = int(0.8 * n)\n",
    "n_val   = int(0.1 * n)\n",
    "\n",
    "# split the triplets into train, validate, test\n",
    "train_df = shuffled.iloc[:n_train]\n",
    "validation_df   = shuffled.iloc[n_train : n_train + n_val]\n",
    "test_df  = shuffled.iloc[n_train + n_val :]\n",
    "\n",
    "# verify the splits\n",
    "print(f\"Train: {len(train_df)}\")\n",
    "print(f\"Validation: {len(validation_df)}\")\n",
    "print(f\"Test: {len(test_df)}\")\n",
    "\n",
    "# save the splits\n",
    "train_df.to_parquet(\"dataprep/ms_marco_combined/train.parquet\", index=False)\n",
    "validation_df.to_parquet(\"dataprep/ms_marco_combined/validation.parquet\", index=False)\n",
    "test_df.to_parquet(\"dataprep/ms_marco_combined/test.parquet\", index=False)\n"
   ]
  }
 ],
 "metadata": {
  "kernelspec": {
   "display_name": "Python 3 (ipykernel)",
   "language": "python",
   "name": "python3"
  },
  "language_info": {
   "codemirror_mode": {
    "name": "ipython",
    "version": 3
   },
   "file_extension": ".py",
   "mimetype": "text/x-python",
   "name": "python",
   "nbconvert_exporter": "python",
   "pygments_lexer": "ipython3",
   "version": "3.12.8"
  }
 },
 "nbformat": 4,
 "nbformat_minor": 2
}
