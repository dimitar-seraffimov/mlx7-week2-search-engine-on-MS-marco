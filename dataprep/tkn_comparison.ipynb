{
 "cells": [
  {
   "cell_type": "code",
   "execution_count": 3,
   "metadata": {},
   "outputs": [],
   "source": [
    "import pandas as pd\n",
    "import numpy as np\n",
    "\n",
    "# load tokenised splits\n",
    "train_df = pd.read_pickle(\"dataprep/ms_marco_combined/tokenised/train_tokenised.pkl\")\n",
    "val_df   = pd.read_pickle(\"dataprep/ms_marco_combined/tokenised/validation_tokenised.pkl\")\n",
    "test_df  = pd.read_pickle(\"dataprep/ms_marco_combined/tokenised/test_tokenised.pkl\")\n",
    "\n",
    "def describe_ids(col):\n",
    "    lengths = col.str.len()\n",
    "    return {\n",
    "      'avg': lengths.mean(),\n",
    "      'med': lengths.median(),\n",
    "      'min': lengths.min(),\n",
    "      'max': lengths.max(),\n",
    "      'pct_unk': (col.apply(lambda ids: any(i==1 for i in ids)).mean() * 100)\n",
    "    }\n"
   ]
  },
  {
   "cell_type": "code",
   "execution_count": 4,
   "metadata": {},
   "outputs": [
    {
     "name": "stdout",
     "output_type": "stream",
     "text": [
      "Train (79004 ex.)\n",
      "  Query → avg 6.1, med 6.0, max 26, %UNK 41.9%\n",
      "  Pos   → avg 83.2, med 83.0, max 254, %UNK 100.0%\n",
      "  Neg   → avg 80.4, med 79.0, max 236, %UNK 100.0%\n",
      "\n",
      "Val (9875 ex.)\n",
      "  Query → avg 6.0, med 6.0, max 19, %UNK 42.2%\n",
      "  Pos   → avg 83.2, med 83.0, max 199, %UNK 100.0%\n",
      "  Neg   → avg 80.0, med 79.0, max 225, %UNK 100.0%\n",
      "\n",
      "Test (9876 ex.)\n",
      "  Query → avg 6.1, med 6.0, max 27, %UNK 43.0%\n",
      "  Pos   → avg 83.1, med 83.0, max 208, %UNK 99.9%\n",
      "  Neg   → avg 80.4, med 79.0, max 211, %UNK 100.0%\n",
      "\n"
     ]
    }
   ],
   "source": [
    "# Length & UNK stats per split\n",
    "for df, name in [(train_df, \"Train\"), (val_df, \"Val\"), (test_df, \"Test\")]:\n",
    "    q = describe_ids(df['query_ids'])\n",
    "    p = describe_ids(df['pos_ids'])\n",
    "    n = describe_ids(df['neg_ids'])\n",
    "    print(f\"{name} ({len(df)} ex.)\")\n",
    "    print(f\"  Query → avg {q['avg']:.1f}, med {q['med']}, max {q['max']}, %UNK {q['pct_unk']:.1f}%\")\n",
    "    print(f\"  Pos   → avg {p['avg']:.1f}, med {p['med']}, max {p['max']}, %UNK {p['pct_unk']:.1f}%\")\n",
    "    print(f\"  Neg   → avg {n['avg']:.1f}, med {n['med']}, max {n['max']}, %UNK {n['pct_unk']:.1f}%\\n\")\n"
   ]
  }
 ],
 "metadata": {
  "kernelspec": {
   "display_name": "Python 3 (ipykernel)",
   "language": "python",
   "name": "python3"
  },
  "language_info": {
   "codemirror_mode": {
    "name": "ipython",
    "version": 3
   },
   "file_extension": ".py",
   "mimetype": "text/x-python",
   "name": "python",
   "nbconvert_exporter": "python",
   "pygments_lexer": "ipython3",
   "version": "3.12.8"
  }
 },
 "nbformat": 4,
 "nbformat_minor": 2
}
